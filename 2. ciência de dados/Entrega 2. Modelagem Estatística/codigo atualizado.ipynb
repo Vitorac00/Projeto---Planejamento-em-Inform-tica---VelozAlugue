{
  "nbformat": 4,
  "nbformat_minor": 0,
  "metadata": {
    "colab": {
      "provenance": []
    },
    "kernelspec": {
      "name": "python3",
      "display_name": "Python 3"
    },
    "language_info": {
      "name": "python"
    }
  },
  "cells": [
    {
      "cell_type": "code",
      "execution_count": 1,
      "metadata": {
        "id": "ez2bR9ISQdM5"
      },
      "outputs": [],
      "source": [
        "import pandas as pd\n",
        "import numpy as np\n"
      ]
    },
    {
      "cell_type": "code",
      "source": [
        "df = pd.read_csv('dados_Velozalugue.csv')"
      ],
      "metadata": {
        "id": "pLG5p72nQnRv"
      },
      "execution_count": 2,
      "outputs": []
    },
    {
      "cell_type": "code",
      "source": [
        "print(df.isnull().sum())"
      ],
      "metadata": {
        "colab": {
          "base_uri": "https://localhost:8080/"
        },
        "id": "Gh6dsiK8QzO8",
        "outputId": "147ee791-b71d-4ffd-8fca-94fd67524b38"
      },
      "execution_count": 3,
      "outputs": [
        {
          "output_type": "stream",
          "name": "stdout",
          "text": [
            "ID_CLIENTE          0\n",
            "NOME_CLIENTE        0\n",
            "CPF                 0\n",
            "ENDEREÇO_CLIENTE    0\n",
            "TELEFONE_CLIENTE    0\n",
            "ID_CARROS           0\n",
            "MODELO              0\n",
            "CLASSE              0\n",
            "PLACA               0\n",
            "PREÇO-CLASSE        0\n",
            "ID_DIARIA           0\n",
            "QTD_DIARIA          0\n",
            "PREÇO_DIARIA        0\n",
            "ID_AGENCIA          0\n",
            "NOME_AGENCIA        0\n",
            "ENDEREÇO_AGENCIA    0\n",
            "TELEFONE_AGENCIA    0\n",
            "ID_FUNCIONARIO      0\n",
            "NOME_FUNCIONARIO    0\n",
            "FUNÇÃO              0\n",
            "dtype: int64\n"
          ]
        }
      ]
    },
    {
      "cell_type": "code",
      "source": [
        "# Preencher valores ausentes com a média para colunas numéricas\n",
        "for coluna in df.select_dtypes(include=['float64', 'int64']).columns:\n",
        "    df[coluna].fillna(df[coluna].mean(), inplace=True)\n",
        "\n",
        "# Preencher valores ausentes com 'desconhecido' para colunas categóricas\n",
        "for coluna in df.select_dtypes(include=['object']).columns:\n",
        "    df[coluna].fillna('desconhecido', inplace=True)"
      ],
      "metadata": {
        "id": "gxEL8RfUQ1bv"
      },
      "execution_count": 4,
      "outputs": []
    },
    {
      "cell_type": "code",
      "source": [
        "for coluna in df.select_dtypes(include=['float64', 'int64']).columns:\n",
        "    Q1 = df[coluna].quantile(0.25)\n",
        "    Q3 = df[coluna].quantile(0.75)\n",
        "    IQR = Q3 - Q1\n",
        "    limite_inferior = Q1 - 1.5 * IQR\n",
        "    limite_superior = Q3 + 1.5 * IQR\n",
        "\n",
        "    df[coluna] = np.where(df[coluna] < limite_inferior, limite_inferior, df[coluna])\n",
        "    df[coluna] = np.where(df[coluna] > limite_superior, limite_superior, df[coluna])"
      ],
      "metadata": {
        "id": "Op27JmeLSZEf"
      },
      "execution_count": 5,
      "outputs": []
    },
    {
      "cell_type": "code",
      "source": [
        "for coluna in df.select_dtypes(include=['object']).columns:\n",
        "    df[coluna] = df[coluna].str.strip().str.lower()"
      ],
      "metadata": {
        "id": "Uj7plodEScmm"
      },
      "execution_count": 6,
      "outputs": []
    },
    {
      "cell_type": "code",
      "source": [
        "# Converter colunas de data (exemplo: 'data' é o nome da coluna)\n",
        "if 'data' in df.columns:\n",
        "    df['data'] = pd.to_datetime(df['data'], errors='coerce')"
      ],
      "metadata": {
        "id": "AiND6rLpSdUi"
      },
      "execution_count": 7,
      "outputs": []
    },
    {
      "cell_type": "code",
      "source": [
        "  # Supondo que há uma coluna 'distancia_km' que precisa ser convertida para metros\n",
        "if 'distancia_km' in df.columns:\n",
        "    df['distancia_m'] = df['distancia_km'] * 1000\n",
        "    df.drop(columns='distancia_km', inplace=True)"
      ],
      "metadata": {
        "id": "eXs4TETbSfHF"
      },
      "execution_count": 8,
      "outputs": []
    },
    {
      "cell_type": "code",
      "source": [
        "print(\"Informações do dataframe após a limpeza:\")\n",
        "print(df.info())\n",
        "print(df.head())"
      ],
      "metadata": {
        "colab": {
          "base_uri": "https://localhost:8080/"
        },
        "id": "5cj9SFYMShig",
        "outputId": "13d78adb-beab-4dbb-dec2-096ec76a66e7"
      },
      "execution_count": 9,
      "outputs": [
        {
          "output_type": "stream",
          "name": "stdout",
          "text": [
            "Informações do dataframe após a limpeza:\n",
            "<class 'pandas.core.frame.DataFrame'>\n",
            "RangeIndex: 30 entries, 0 to 29\n",
            "Data columns (total 20 columns):\n",
            " #   Column            Non-Null Count  Dtype  \n",
            "---  ------            --------------  -----  \n",
            " 0   ID_CLIENTE        30 non-null     float64\n",
            " 1   NOME_CLIENTE      30 non-null     object \n",
            " 2   CPF               30 non-null     object \n",
            " 3   ENDEREÇO_CLIENTE  30 non-null     object \n",
            " 4   TELEFONE_CLIENTE  30 non-null     object \n",
            " 5   ID_CARROS         30 non-null     float64\n",
            " 6   MODELO            30 non-null     object \n",
            " 7   CLASSE            30 non-null     object \n",
            " 8   PLACA             30 non-null     object \n",
            " 9   PREÇO-CLASSE      30 non-null     float64\n",
            " 10  ID_DIARIA         30 non-null     float64\n",
            " 11  QTD_DIARIA        30 non-null     float64\n",
            " 12  PREÇO_DIARIA      30 non-null     float64\n",
            " 13  ID_AGENCIA        30 non-null     float64\n",
            " 14  NOME_AGENCIA      30 non-null     object \n",
            " 15  ENDEREÇO_AGENCIA  30 non-null     object \n",
            " 16  TELEFONE_AGENCIA  30 non-null     object \n",
            " 17  ID_FUNCIONARIO    30 non-null     float64\n",
            " 18  NOME_FUNCIONARIO  30 non-null     object \n",
            " 19  FUNÇÃO            30 non-null     object \n",
            "dtypes: float64(8), object(12)\n",
            "memory usage: 4.8+ KB\n",
            "None\n",
            "   ID_CLIENTE NOME_CLIENTE             CPF            ENDEREÇO_CLIENTE  \\\n",
            "0         1.0        sofia  308.495.768-93     rua das margaridas, 123   \n",
            "1         2.0       mateus  127.683.954-08  avenida dos girassóis, 456   \n",
            "2         3.0        laura  548.762.310-41      praça das acácias, 789   \n",
            "3         4.0        lucas  936.201.485-60       rua das violetas, 321   \n",
            "4         5.0      isabela  719.356.824-09       avenida dos ipês, 654   \n",
            "\n",
            "  TELEFONE_CLIENTE  ID_CARROS              MODELO    CLASSE    PLACA  \\\n",
            "0  (12) 34567-8901      101.0      fiat mobi easy  classe 1  abc1d23   \n",
            "1  (23) 45678-9012      102.0   renault kwid life  classe 1  efg2h45   \n",
            "2  (34) 56789-0123      103.0  chevrolet onix joy  classe 1  ijk3l67   \n",
            "3  (45) 67890-1234      104.0  hyundai hb20 sense  classe 1  mno4p89   \n",
            "4  (56) 78901-2345      105.0  volkswagen gol 1.0  classe 1  qrs5t01   \n",
            "\n",
            "   PREÇO-CLASSE  ID_DIARIA  QTD_DIARIA  PREÇO_DIARIA  ID_AGENCIA NOME_AGENCIA  \\\n",
            "0          50.0        0.0         1.0          30.0         0.0       matriz   \n",
            "1          50.0        0.0         2.0          30.0         0.0            0   \n",
            "2          50.0        0.0         3.0          30.0         0.0            0   \n",
            "3          50.0        0.0         4.0          30.0         0.0            0   \n",
            "4          50.0        0.0         5.0          30.0         0.0            0   \n",
            "\n",
            "         ENDEREÇO_AGENCIA TELEFONE_AGENCIA  ID_FUNCIONARIO  \\\n",
            "0  avenida paulista, 1804  (11) 32109-8765        101011.0   \n",
            "1                       0                0        101012.0   \n",
            "2                       0                0        101013.0   \n",
            "3                       0                0        101014.0   \n",
            "4                       0                0        101015.0   \n",
            "\n",
            "      NOME_FUNCIONARIO      FUNÇÃO  \n",
            "0        maximus stone  presidente  \n",
            "1  seraphina blackwood  financeiro  \n",
            "2   orion thunderheart  financeiro  \n",
            "3     azura nightshade          ti  \n",
            "4    phoenix stormborn          ti  \n"
          ]
        }
      ]
    },
    {
      "cell_type": "code",
      "source": [
        "df.to_csv('seu_arquivo_limpo.csv', index=False)\n"
      ],
      "metadata": {
        "id": "9DGjyotbSl4i"
      },
      "execution_count": 10,
      "outputs": []
    },
    {
      "cell_type": "code",
      "source": [
        "import matplotlib.pyplot as plt\n",
        "from sklearn.model_selection import train_test_split\n",
        "from sklearn.linear_model import LinearRegression\n",
        "from sklearn.metrics import mean_absolute_error, mean_squared_error, r2_score\n",
        "\n",
        "# Separar as características e a variável alvo\n",
        "X = df.drop(columns=['ID_CLIENTE', 'NOME_CLIENTE', 'CPF', 'ENDEREÇO_CLIENTE', 'TELEFONE_CLIENTE',\n",
        "                     'ID_CARROS', 'MODELO', 'CLASSE', 'PLACA', 'ID_DIARIA', 'QTD_DIARIA', 'ID_AGENCIA',\n",
        "                     'NOME_AGENCIA', 'ENDEREÇO_AGENCIA', 'TELEFONE_AGENCIA', 'ID_FUNCIONARIO',\n",
        "                     'NOME_FUNCIONARIO','FUNÇÃO'])  # Substitua 'target' pelo nome da sua coluna alvo\n",
        "y = df['QTD_DIARIA' ]  # Substitua 'target' pelo nome da sua coluna alvo\n",
        "\n",
        "# Dividir os dados em conjuntos de treino e teste\n",
        "X_train, X_test, y_train, y_test = train_test_split(X, y, test_size=0.3, random_state=42)\n"
      ],
      "metadata": {
        "id": "O03MiBAaX6_5"
      },
      "execution_count": 30,
      "outputs": []
    },
    {
      "cell_type": "code",
      "source": [
        "from sklearn.metrics import confusion_matrix"
      ],
      "metadata": {
        "id": "kz9PSCtDTFxP"
      },
      "execution_count": 12,
      "outputs": []
    },
    {
      "cell_type": "code",
      "source": [
        "# Avaliar matriz confusão\n",
        "y_true = [80, 50, 80, 100, 50, 100]\n",
        "y_pred = [100, 50, 100,800, 80, 100]\n",
        "\n",
        "matriz_confusao = confusion_matrix(y_true, y_pred)\n",
        "print(matriz_confusao)"
      ],
      "metadata": {
        "colab": {
          "base_uri": "https://localhost:8080/"
        },
        "id": "Xx1uctC9V2qp",
        "outputId": "5dac0b6a-5c32-41de-9d3f-98156cc8175d"
      },
      "execution_count": 23,
      "outputs": [
        {
          "output_type": "stream",
          "name": "stdout",
          "text": [
            "[[1 1 0 0]\n",
            " [0 0 2 0]\n",
            " [0 0 1 1]\n",
            " [0 0 0 0]]\n"
          ]
        }
      ]
    },
    {
      "cell_type": "code",
      "source": [
        "# Criando uma instância do modelo de regressão linear\n",
        "model = LinearRegression()"
      ],
      "metadata": {
        "id": "8jVd05ObYPIn"
      },
      "execution_count": 24,
      "outputs": []
    },
    {
      "cell_type": "code",
      "source": [
        "# Treinando o modelo com os dados de treinamento\n",
        "model.fit(X_train, y_train)"
      ],
      "metadata": {
        "colab": {
          "base_uri": "https://localhost:8080/",
          "height": 74
        },
        "id": "GZx67ey8lRZ4",
        "outputId": "71b0636a-f018-4e31-9578-be9afa0b55dc"
      },
      "execution_count": 25,
      "outputs": [
        {
          "output_type": "execute_result",
          "data": {
            "text/plain": [
              "LinearRegression()"
            ],
            "text/html": [
              "<style>#sk-container-id-2 {color: black;background-color: white;}#sk-container-id-2 pre{padding: 0;}#sk-container-id-2 div.sk-toggleable {background-color: white;}#sk-container-id-2 label.sk-toggleable__label {cursor: pointer;display: block;width: 100%;margin-bottom: 0;padding: 0.3em;box-sizing: border-box;text-align: center;}#sk-container-id-2 label.sk-toggleable__label-arrow:before {content: \"▸\";float: left;margin-right: 0.25em;color: #696969;}#sk-container-id-2 label.sk-toggleable__label-arrow:hover:before {color: black;}#sk-container-id-2 div.sk-estimator:hover label.sk-toggleable__label-arrow:before {color: black;}#sk-container-id-2 div.sk-toggleable__content {max-height: 0;max-width: 0;overflow: hidden;text-align: left;background-color: #f0f8ff;}#sk-container-id-2 div.sk-toggleable__content pre {margin: 0.2em;color: black;border-radius: 0.25em;background-color: #f0f8ff;}#sk-container-id-2 input.sk-toggleable__control:checked~div.sk-toggleable__content {max-height: 200px;max-width: 100%;overflow: auto;}#sk-container-id-2 input.sk-toggleable__control:checked~label.sk-toggleable__label-arrow:before {content: \"▾\";}#sk-container-id-2 div.sk-estimator input.sk-toggleable__control:checked~label.sk-toggleable__label {background-color: #d4ebff;}#sk-container-id-2 div.sk-label input.sk-toggleable__control:checked~label.sk-toggleable__label {background-color: #d4ebff;}#sk-container-id-2 input.sk-hidden--visually {border: 0;clip: rect(1px 1px 1px 1px);clip: rect(1px, 1px, 1px, 1px);height: 1px;margin: -1px;overflow: hidden;padding: 0;position: absolute;width: 1px;}#sk-container-id-2 div.sk-estimator {font-family: monospace;background-color: #f0f8ff;border: 1px dotted black;border-radius: 0.25em;box-sizing: border-box;margin-bottom: 0.5em;}#sk-container-id-2 div.sk-estimator:hover {background-color: #d4ebff;}#sk-container-id-2 div.sk-parallel-item::after {content: \"\";width: 100%;border-bottom: 1px solid gray;flex-grow: 1;}#sk-container-id-2 div.sk-label:hover label.sk-toggleable__label {background-color: #d4ebff;}#sk-container-id-2 div.sk-serial::before {content: \"\";position: absolute;border-left: 1px solid gray;box-sizing: border-box;top: 0;bottom: 0;left: 50%;z-index: 0;}#sk-container-id-2 div.sk-serial {display: flex;flex-direction: column;align-items: center;background-color: white;padding-right: 0.2em;padding-left: 0.2em;position: relative;}#sk-container-id-2 div.sk-item {position: relative;z-index: 1;}#sk-container-id-2 div.sk-parallel {display: flex;align-items: stretch;justify-content: center;background-color: white;position: relative;}#sk-container-id-2 div.sk-item::before, #sk-container-id-2 div.sk-parallel-item::before {content: \"\";position: absolute;border-left: 1px solid gray;box-sizing: border-box;top: 0;bottom: 0;left: 50%;z-index: -1;}#sk-container-id-2 div.sk-parallel-item {display: flex;flex-direction: column;z-index: 1;position: relative;background-color: white;}#sk-container-id-2 div.sk-parallel-item:first-child::after {align-self: flex-end;width: 50%;}#sk-container-id-2 div.sk-parallel-item:last-child::after {align-self: flex-start;width: 50%;}#sk-container-id-2 div.sk-parallel-item:only-child::after {width: 0;}#sk-container-id-2 div.sk-dashed-wrapped {border: 1px dashed gray;margin: 0 0.4em 0.5em 0.4em;box-sizing: border-box;padding-bottom: 0.4em;background-color: white;}#sk-container-id-2 div.sk-label label {font-family: monospace;font-weight: bold;display: inline-block;line-height: 1.2em;}#sk-container-id-2 div.sk-label-container {text-align: center;}#sk-container-id-2 div.sk-container {/* jupyter's `normalize.less` sets `[hidden] { display: none; }` but bootstrap.min.css set `[hidden] { display: none !important; }` so we also need the `!important` here to be able to override the default hidden behavior on the sphinx rendered scikit-learn.org. See: https://github.com/scikit-learn/scikit-learn/issues/21755 */display: inline-block !important;position: relative;}#sk-container-id-2 div.sk-text-repr-fallback {display: none;}</style><div id=\"sk-container-id-2\" class=\"sk-top-container\"><div class=\"sk-text-repr-fallback\"><pre>LinearRegression()</pre><b>In a Jupyter environment, please rerun this cell to show the HTML representation or trust the notebook. <br />On GitHub, the HTML representation is unable to render, please try loading this page with nbviewer.org.</b></div><div class=\"sk-container\" hidden><div class=\"sk-item\"><div class=\"sk-estimator sk-toggleable\"><input class=\"sk-toggleable__control sk-hidden--visually\" id=\"sk-estimator-id-2\" type=\"checkbox\" checked><label for=\"sk-estimator-id-2\" class=\"sk-toggleable__label sk-toggleable__label-arrow\">LinearRegression</label><div class=\"sk-toggleable__content\"><pre>LinearRegression()</pre></div></div></div></div></div>"
            ]
          },
          "metadata": {},
          "execution_count": 25
        }
      ]
    },
    {
      "cell_type": "code",
      "source": [
        "# Fazendo previsões com os dados de validação\n",
        "predictions = model.predict(X_test)"
      ],
      "metadata": {
        "id": "4e0orcjalTjc"
      },
      "execution_count": 26,
      "outputs": []
    },
    {
      "cell_type": "code",
      "source": [
        "# Calculando as métricas\n",
        "mae = mean_absolute_error(y_test, predictions)\n",
        "mse = mean_squared_error(y_test, predictions)\n",
        "rmse = mean_squared_error(y_test, predictions, squared=False)  # Calculando RMSE a partir do MSE\n",
        "r2 = r2_score(y_test, predictions)"
      ],
      "metadata": {
        "id": "GqNExyTPt7hP"
      },
      "execution_count": 27,
      "outputs": []
    },
    {
      "cell_type": "code",
      "source": [
        "# Exibindo as métricas\n",
        "print(\"Erro Médio Absoluto (MAE):\", mae)\n",
        "print(\"Erro Quadrático Médio (MSE):\", mse)\n",
        "print(\"Raiz do Erro Quadrático Médio (RMSE):\", rmse)\n",
        "print(\"R-quadrado (R²):\", r2)\n"
      ],
      "metadata": {
        "colab": {
          "base_uri": "https://localhost:8080/"
        },
        "id": "cjWPANrCuIbE",
        "outputId": "30a87857-ca8d-4cbe-da2a-d388e4321364"
      },
      "execution_count": 28,
      "outputs": [
        {
          "output_type": "stream",
          "name": "stdout",
          "text": [
            "Erro Médio Absoluto (MAE): 2.8098290598290614\n",
            "Erro Quadrático Médio (MSE): 11.894771805829514\n",
            "Raiz do Erro Quadrático Médio (RMSE): 3.448879789994066\n",
            "R-quadrado (R²): 0.7716880293193861\n"
          ]
        }
      ]
    },
    {
      "cell_type": "code",
      "source": [
        "# Plotando as previsões em comparação com os valores reais\n",
        "plt.figure(figsize=(10, 6))\n",
        "plt.scatter(y_test, predictions, color='blue', alpha=0.5)\n",
        "plt.plot([y_test.min(), y_test.max()], [y_test.min(), y_test.max()], 'k--', lw=2)\n",
        "plt.xlabel('Valores Reais')\n",
        "plt.ylabel('Previsões')\n",
        "plt.title('Valores Reais vs. Previsões')\n",
        "plt.show()"
      ],
      "metadata": {
        "colab": {
          "base_uri": "https://localhost:8080/",
          "height": 564
        },
        "id": "EIY2q1zWuNX3",
        "outputId": "e83feadb-b5b0-4b9e-a307-0544ef3c9761"
      },
      "execution_count": 29,
      "outputs": [
        {
          "output_type": "display_data",
          "data": {
            "text/plain": [
              "<Figure size 1000x600 with 1 Axes>"
            ],
            "image/png": "[encoded data removed]"
          },
          "metadata": {}
        }
      ]
    },
    {
      "cell_type": "code",
      "source": [
        "# Estatísticas descritivas\n",
        "for coluna in df.select_dtypes(include=['float64', 'int64']).columns:\n",
        "    media = df[coluna].mean()\n",
        "    mediana = df[coluna].median()\n",
        "    desvio_padrao = df[coluna].std()\n",
        "\n",
        "    print(f'Coluna: {coluna}')\n",
        "    print(f'Média: {media}')\n",
        "    print(f'Mediana: {mediana}')\n",
        "    print(f'Desvio Padrão: {desvio_padrao}')\n",
        "    print('-' * 30)"
      ],
      "metadata": {
        "colab": {
          "base_uri": "https://localhost:8080/"
        },
        "id": "9zUUdS41ffAt",
        "outputId": "948e699b-1260-4372-fa16-d749cb4de7d3"
      },
      "execution_count": 33,
      "outputs": [
        {
          "output_type": "stream",
          "name": "stdout",
          "text": [
            "Coluna: ID_CLIENTE\n",
            "Média: 15.5\n",
            "Mediana: 15.5\n",
            "Desvio Padrão: 8.803408430829505\n",
            "------------------------------\n",
            "Coluna: ID_CARROS\n",
            "Média: 115.5\n",
            "Mediana: 115.5\n",
            "Desvio Padrão: 8.803408430829505\n",
            "------------------------------\n",
            "Coluna: PREÇO-CLASSE\n",
            "Média: 76.66666666666667\n",
            "Mediana: 80.0\n",
            "Desvio Padrão: 20.89932078311164\n",
            "------------------------------\n",
            "Coluna: ID_DIARIA\n",
            "Média: 0.0\n",
            "Mediana: 0.0\n",
            "Desvio Padrão: 0.0\n",
            "------------------------------\n",
            "Coluna: QTD_DIARIA\n",
            "Média: 15.5\n",
            "Mediana: 15.5\n",
            "Desvio Padrão: 8.803408430829505\n",
            "------------------------------\n",
            "Coluna: PREÇO_DIARIA\n",
            "Média: 30.0\n",
            "Mediana: 30.0\n",
            "Desvio Padrão: 0.0\n",
            "------------------------------\n",
            "Coluna: ID_AGENCIA\n",
            "Média: 0.0\n",
            "Mediana: 0.0\n",
            "Desvio Padrão: 0.0\n",
            "------------------------------\n",
            "Coluna: ID_FUNCIONARIO\n",
            "Média: 50509.0\n",
            "Mediana: 50505.5\n",
            "Desvio Padrão: 51372.464350547525\n",
            "------------------------------\n"
          ]
        }
      ]
    },
    {
      "cell_type": "code",
      "source": [
        "import matplotlib.pyplot as plt\n",
        "import seaborn as sns\n",
        "\n",
        "# Gráfico de dispersão\n",
        "sns.scatterplot(x='QTD_DIARIA', y='PREÇO-CLASSE', data=df)\n",
        "plt.show()"
      ],
      "metadata": {
        "colab": {
          "base_uri": "https://localhost:8080/",
          "height": 449
        },
        "id": "Vz4rq50CgwRV",
        "outputId": "9c28023a-d44a-4d21-bfe8-e6eca1ce4be0"
      },
      "execution_count": 38,
      "outputs": [
        {
          "output_type": "display_data",
          "data": {
            "text/plain": [
              "<Figure size 640x480 with 1 Axes>"
            ],
            "image/png": "[encoded data removed]"
          },
          "metadata": {}
        }
      ]
    },
    {
      "cell_type": "code",
      "source": [
        "# Identificar padrões\n",
        "tendencia = df['PREÇO-CLASSE'].value_counts()\n",
        "print(tendencia)"
      ],
      "metadata": {
        "colab": {
          "base_uri": "https://localhost:8080/"
        },
        "id": "8H0VGEYLh2Ka",
        "outputId": "9870b8e4-1c2a-43a5-a62e-c2a01c751caf"
      },
      "execution_count": 42,
      "outputs": [
        {
          "output_type": "stream",
          "name": "stdout",
          "text": [
            "PREÇO-CLASSE\n",
            "50.0     10\n",
            "80.0     10\n",
            "100.0    10\n",
            "Name: count, dtype: int64\n"
          ]
        }
      ]
    },
    {
      "cell_type": "code",
      "source": [
        "# Função para calcular estatísticas descritivas das colunas numéricas\n",
        "def calcular_estatisticas_descritivas(df):\n",
        "    estatisticas = {}\n",
        "    for coluna in df.select_dtypes(include=['float64', 'int64']).columns:\n",
        "        media = df[coluna].mean()\n",
        "        mediana = df[coluna].median()\n",
        "        desvio_padrao = df[coluna].std()\n",
        "        estatisticas[coluna] = {'Média': media, 'Mediana': mediana, 'Desvio Padrão': desvio_padrao}\n",
        "    return estatisticas\n",
        "\n",
        "def avaliar_modelo1(df):\n",
        "    # Vamos usar as estatísticas descritivas das colunas numéricas como pontuação do modelo\n",
        "    estatisticas = calcular_estatisticas_descritivas(df)\n",
        "    pontuacao_modelo = sum(estatisticas[coluna]['Média'] for coluna in estatisticas)\n",
        "    return pontuacao_modelo\n",
        "\n",
        "def avaliar_modelo2(df):\n",
        "    # Vamos usar as estatísticas descritivas das colunas numéricas como pontuação do modelo\n",
        "    estatisticas = calcular_estatisticas_descritivas(df)\n",
        "    pontuacao_modelo = sum(estatisticas[coluna]['Desvio Padrão'] for coluna in estatisticas)\n",
        "    return pontuacao_modelo\n",
        "\n",
        "# Comparar modelos\n",
        "resultado1 = avaliar_modelo1(df)\n",
        "resultado2 = avaliar_modelo2(df)\n",
        "\n",
        "if resultado1 > resultado2:\n",
        "    print('Modelo 1 é melhor.')\n",
        "else:\n",
        "    print('Modelo 2 é melhor.')"
      ],
      "metadata": {
        "colab": {
          "base_uri": "https://localhost:8080/"
        },
        "id": "W6f_d7Pik-aW",
        "outputId": "a9c06a41-e61a-4cc1-e7f8-1b503b247edf"
      },
      "execution_count": 47,
      "outputs": [
        {
          "output_type": "stream",
          "name": "stdout",
          "text": [
            "Modelo 2 é melhor.\n"
          ]
        }
      ]
    }
  ]
}